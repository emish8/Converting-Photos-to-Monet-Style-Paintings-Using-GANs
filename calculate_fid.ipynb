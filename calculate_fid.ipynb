{
  "nbformat": 4,
  "nbformat_minor": 0,
  "metadata": {
    "colab": {
      "provenance": [],
      "mount_file_id": "1ygxYCGBXsuqh-U4oQQ1dc9PZRF378lKJ",
      "authorship_tag": "ABX9TyMJi9AEtHoBL7WHhVJHeUki",
      "include_colab_link": true
    },
    "kernelspec": {
      "name": "python3",
      "display_name": "Python 3"
    },
    "language_info": {
      "name": "python"
    }
  },
  "cells": [
    {
      "cell_type": "markdown",
      "metadata": {
        "id": "view-in-github",
        "colab_type": "text"
      },
      "source": [
        "<a href=\"https://colab.research.google.com/github/emish8/Converting-Photos-to-Monet-Style-Paintings-Using-GANs/blob/main/calculate_fid.ipynb\" target=\"_parent\"><img src=\"https://colab.research.google.com/assets/colab-badge.svg\" alt=\"Open In Colab\"/></a>"
      ]
    },
    {
      "cell_type": "markdown",
      "source": [
        "#FID\n"
      ],
      "metadata": {
        "id": "8JOoJRBhMPrR"
      }
    },
    {
      "cell_type": "code",
      "source": [
        "import os\n",
        "import numpy as np\n",
        "import tensorflow as tf\n",
        "import tensorflow_hub as hub\n",
        "from scipy.linalg import sqrtm\n",
        "from PIL import Image\n",
        "\n",
        "def get_activations(images, module, batch_size):\n",
        "    \"\"\"\n",
        "    Get activations for a set of images using a given Inception V3 module.\n",
        "    \"\"\"\n",
        "    activations = []\n",
        "    for i in range(0, len(images), batch_size):\n",
        "        batch = tf.convert_to_tensor(images[i:i+batch_size], dtype=tf.float32)\n",
        "        activations.append(module(batch))\n",
        "    activations = tf.concat(activations, axis=0)\n",
        "    return activations\n",
        "\n",
        "\n",
        "def calculate_fid(real_image_path, fake_image_folder_path, batch_size=1):\n",
        "    module = hub.load('https://tfhub.dev/google/imagenet/inception_v3/feature_vector/5')\n",
        "\n",
        "    # Load up to 190 real images\n",
        "    real_image_filenames = os.listdir(real_image_path)\n",
        "    num_real_images = min(len(real_image_filenames), 190)\n",
        "    real_image_filenames = real_image_filenames[:num_real_images]\n",
        "    real_image_paths = [os.path.join(real_image_path, filename) for filename in real_image_filenames]\n",
        "    real_images = np.array([np.array(Image.open(path)) for path in real_image_paths])\n",
        "\n",
        "    # Load up to 190 fake images from the folder\n",
        "    fake_image_filenames = os.listdir(fake_image_folder_path)\n",
        "    num_fake_images = min(len(fake_image_filenames), 190)\n",
        "    fake_image_filenames = fake_image_filenames[:num_fake_images]\n",
        "    fake_image_paths = [os.path.join(fake_image_folder_path, filename) for filename in fake_image_filenames]\n",
        "    fake_images = np.array([np.array(Image.open(path)) for path in fake_image_paths])\n",
        "\n",
        "    # Compute mean and covariance of real images\n",
        "    real_activations = get_activations(real_images, module, batch_size)\n",
        "    real_mean = np.mean(real_activations, axis=0)\n",
        "    real_cov = np.cov(real_activations, rowvar=False)\n",
        "\n",
        "    # Compute mean and covariance of generated images\n",
        "    fake_activations = get_activations(fake_images, module, batch_size)\n",
        "    fake_mean = np.mean(fake_activations, axis=0)\n",
        "    fake_cov = np.cov(fake_activations, rowvar=False)\n",
        "\n",
        "    # Calculate FID\n",
        "    mean_diff = real_mean - fake_mean\n",
        "    cov_product = real_cov.dot(fake_cov)\n",
        "    cov_sqrt = sqrtm(cov_product).real\n",
        "    if np.iscomplexobj(cov_sqrt):\n",
        "        cov_sqrt = cov_sqrt.real\n",
        "    fid = mean_diff.dot(mean_diff) + np.trace(real_cov + fake_cov - 2 * cov_sqrt)\n",
        "\n",
        "    return fid\n",
        "\n",
        "\n"
      ],
      "metadata": {
        "id": "Z4s7ZA1ZMyk-"
      },
      "execution_count": 1,
      "outputs": []
    },
    {
      "cell_type": "code",
      "source": [
        "real = '/content/drive/MyDrive/GAN_data/gan-getting-started/jpg/monet_jpg'\n",
        "coverted_by_pix = '/content/drive/MyDrive/GAN_data/pix'\n",
        "converted_by_cyclegan = '/content/drive/MyDrive/GAN_data/cycle'\n",
        "converted_by_neural= '/content/drive/MyDrive/GAN_data/neural'"
      ],
      "metadata": {
        "id": "IIMN0EWoRPED"
      },
      "execution_count": 2,
      "outputs": []
    },
    {
      "cell_type": "code",
      "source": [
        "fid_pix2pix = calculate_fid(real, coverted_by_pix, batch_size=1)\n",
        "print(fid_pix2pix)"
      ],
      "metadata": {
        "colab": {
          "base_uri": "https://localhost:8080/"
        },
        "id": "VCtkmwicRFWL",
        "outputId": "687ced1f-c1e0-49e1-b2d5-e31c76bea958"
      },
      "execution_count": 3,
      "outputs": [
        {
          "output_type": "stream",
          "name": "stdout",
          "text": [
            "1917342.134855315\n"
          ]
        }
      ]
    },
    {
      "cell_type": "code",
      "source": [
        "fid_cycleGan = calculate_fid(real, converted_by_cyclegan , batch_size=1)\n",
        "print(fid_cycleGan)"
      ],
      "metadata": {
        "colab": {
          "base_uri": "https://localhost:8080/"
        },
        "id": "_3DD2HQRRmIy",
        "outputId": "ea535bed-aee0-4646-c9d5-44c333d2aeee"
      },
      "execution_count": 4,
      "outputs": [
        {
          "output_type": "stream",
          "name": "stdout",
          "text": [
            "1199486.1822070514\n"
          ]
        }
      ]
    },
    {
      "cell_type": "code",
      "source": [
        "import cv2\n",
        "img = cv2.imread('/content/drive/MyDrive/GAN_data/neural/00.12757726104131295stylized-image.png')\n",
        "img1= cv2.imread('/content/drive/MyDrive/GAN_data/cycle/0.jpg')"
      ],
      "metadata": {
        "id": "gJ6m1yNOVn2D"
      },
      "execution_count": 20,
      "outputs": []
    },
    {
      "cell_type": "code",
      "source": [
        "img.shape"
      ],
      "metadata": {
        "colab": {
          "base_uri": "https://localhost:8080/"
        },
        "id": "bPGyl7UjWFw-",
        "outputId": "9517d6cf-7b67-43ad-e8ca-eebefc7e0fe9"
      },
      "execution_count": 21,
      "outputs": [
        {
          "output_type": "execute_result",
          "data": {
            "text/plain": [
              "(256, 256, 3)"
            ]
          },
          "metadata": {},
          "execution_count": 21
        }
      ]
    },
    {
      "cell_type": "code",
      "source": [
        "fid_neural = calculate_fid(real, converted_by_neural, batch_size=1)\n",
        "print(fid_neural)"
      ],
      "metadata": {
        "colab": {
          "base_uri": "https://localhost:8080/"
        },
        "id": "OVKvA43cNbe6",
        "outputId": "bd000d55-085c-47c2-8c01-bc6df4b6dadb"
      },
      "execution_count": 22,
      "outputs": [
        {
          "output_type": "stream",
          "name": "stdout",
          "text": [
            "208174.26033732155\n"
          ]
        }
      ]
    },
    {
      "cell_type": "code",
      "source": [
        "import math\n",
        "\n",
        "def calculate_mifid(real_image_path, fake_image_folder_path,   batch_size=1):\n",
        "    # Calculate FID\n",
        "    fid = calculate_fid(real_image_path, fake_image_folder_path, batch_size)\n",
        "\n",
        "    # Compute scaling factor\n",
        "    num_real_images = len(os.listdir(real_image_path))\n",
        "    num_fake_images = len(os.listdir(fake_image_folder_path))\n",
        "    scale = math.sqrt(num_real_images / num_fake_images)\n",
        "\n",
        "    # Calculate MiFID\n",
        "    mifid = fid * scale\n",
        "\n",
        "    return mifid\n"
      ],
      "metadata": {
        "id": "SiVvI6IlUUXW"
      },
      "execution_count": 23,
      "outputs": []
    },
    {
      "cell_type": "code",
      "source": [
        "mifid_pix2pix = calculate_mifid(real, coverted_by_pix, batch_size=20)\n",
        "print(mifid_pix2pix)"
      ],
      "metadata": {
        "colab": {
          "base_uri": "https://localhost:8080/"
        },
        "id": "o8ZcbUYbUdAQ",
        "outputId": "dc0d7702-e15c-4942-c405-047b4857a489"
      },
      "execution_count": 24,
      "outputs": [
        {
          "output_type": "stream",
          "name": "stdout",
          "text": [
            "2402943.497395592\n"
          ]
        }
      ]
    },
    {
      "cell_type": "code",
      "source": [
        "mifid_cycleGan = calculate_mifid(real,converted_by_cyclegan , batch_size=1)\n",
        "print(mifid_cycleGan)"
      ],
      "metadata": {
        "id": "RvQaZZvbUndP"
      },
      "execution_count": null,
      "outputs": []
    },
    {
      "cell_type": "code",
      "source": [
        "mifid_neural = calculate_mifid(real,converted_by_neural, batch_size=1)\n",
        "print(mifid_neural)"
      ],
      "metadata": {
        "id": "BghS06vuQnJT"
      },
      "execution_count": null,
      "outputs": []
    },
    {
      "cell_type": "code",
      "source": [
        "from PIL import Image\n",
        "import os\n",
        "\n",
        "def resize_images(folder_path=converted_by_neural):\n",
        "    # Get all image files in the folder\n",
        "    image_files = [f for f in os.listdir(folder_path) if f.endswith('.jpg') or f.endswith('.png')]\n",
        "    i = 0\n",
        "    # Loop through each image file\n",
        "    for image_file in image_files:\n",
        "        # Open the image file\n",
        "        i +=1\n",
        "        image_path = os.path.join(folder_path, image_file)\n",
        "        with Image.open(image_path) as image:\n",
        "            # Resize the image to (256,256) shape\n",
        "            resized_image = image.resize((256, 256))\n",
        "\n",
        "            # Convert the image to RGB mode if it's not already\n",
        "            if resized_image.mode != 'RGB':\n",
        "                resized_image = resized_image.convert('RGB')\n",
        "            print(i, 'iteration')\n",
        "            # Save the resized image\n",
        "            resized_image.save(image_path)\n",
        "    print('done')"
      ],
      "metadata": {
        "id": "BP7iAPhMXJTp"
      },
      "execution_count": null,
      "outputs": []
    },
    {
      "cell_type": "code",
      "source": [
        "resize_images()"
      ],
      "metadata": {
        "colab": {
          "base_uri": "https://localhost:8080/"
        },
        "id": "LXlH8FcPXOne",
        "outputId": "622d8998-f76d-4cb0-aa24-f2145f1b7cc2"
      },
      "execution_count": 19,
      "outputs": [
        {
          "output_type": "stream",
          "name": "stdout",
          "text": [
            "1 iteration\n",
            "2 iteration\n",
            "3 iteration\n",
            "4 iteration\n",
            "5 iteration\n",
            "6 iteration\n",
            "7 iteration\n",
            "8 iteration\n",
            "9 iteration\n",
            "10 iteration\n",
            "11 iteration\n",
            "12 iteration\n",
            "13 iteration\n",
            "14 iteration\n",
            "15 iteration\n",
            "16 iteration\n",
            "17 iteration\n",
            "18 iteration\n",
            "19 iteration\n",
            "20 iteration\n",
            "21 iteration\n",
            "22 iteration\n",
            "23 iteration\n",
            "24 iteration\n",
            "25 iteration\n",
            "26 iteration\n",
            "27 iteration\n",
            "28 iteration\n",
            "29 iteration\n",
            "30 iteration\n",
            "31 iteration\n",
            "32 iteration\n",
            "33 iteration\n",
            "34 iteration\n",
            "35 iteration\n",
            "36 iteration\n",
            "37 iteration\n",
            "38 iteration\n",
            "39 iteration\n",
            "40 iteration\n",
            "41 iteration\n",
            "42 iteration\n",
            "43 iteration\n",
            "44 iteration\n",
            "45 iteration\n",
            "46 iteration\n",
            "47 iteration\n",
            "48 iteration\n",
            "49 iteration\n",
            "50 iteration\n",
            "51 iteration\n",
            "52 iteration\n",
            "53 iteration\n",
            "54 iteration\n",
            "55 iteration\n",
            "56 iteration\n",
            "57 iteration\n",
            "58 iteration\n",
            "59 iteration\n",
            "60 iteration\n",
            "61 iteration\n",
            "62 iteration\n",
            "63 iteration\n",
            "64 iteration\n",
            "65 iteration\n",
            "66 iteration\n",
            "67 iteration\n",
            "68 iteration\n",
            "69 iteration\n",
            "70 iteration\n",
            "71 iteration\n",
            "72 iteration\n",
            "73 iteration\n",
            "74 iteration\n",
            "75 iteration\n",
            "76 iteration\n",
            "77 iteration\n",
            "78 iteration\n",
            "79 iteration\n",
            "80 iteration\n",
            "81 iteration\n",
            "82 iteration\n",
            "83 iteration\n",
            "84 iteration\n",
            "85 iteration\n",
            "86 iteration\n",
            "87 iteration\n",
            "88 iteration\n",
            "89 iteration\n",
            "90 iteration\n",
            "91 iteration\n",
            "92 iteration\n",
            "93 iteration\n",
            "94 iteration\n",
            "95 iteration\n",
            "96 iteration\n",
            "97 iteration\n",
            "98 iteration\n",
            "99 iteration\n",
            "100 iteration\n",
            "101 iteration\n",
            "102 iteration\n",
            "103 iteration\n",
            "104 iteration\n",
            "105 iteration\n",
            "106 iteration\n",
            "107 iteration\n",
            "108 iteration\n",
            "109 iteration\n",
            "110 iteration\n",
            "111 iteration\n",
            "112 iteration\n",
            "113 iteration\n",
            "114 iteration\n",
            "115 iteration\n",
            "116 iteration\n",
            "117 iteration\n",
            "118 iteration\n",
            "119 iteration\n",
            "120 iteration\n",
            "121 iteration\n",
            "122 iteration\n",
            "123 iteration\n",
            "124 iteration\n",
            "125 iteration\n",
            "126 iteration\n",
            "127 iteration\n",
            "128 iteration\n",
            "129 iteration\n",
            "130 iteration\n",
            "131 iteration\n",
            "132 iteration\n",
            "133 iteration\n",
            "134 iteration\n",
            "135 iteration\n",
            "136 iteration\n",
            "137 iteration\n",
            "138 iteration\n",
            "139 iteration\n",
            "140 iteration\n",
            "141 iteration\n",
            "142 iteration\n",
            "143 iteration\n",
            "144 iteration\n",
            "145 iteration\n",
            "146 iteration\n",
            "147 iteration\n",
            "148 iteration\n",
            "149 iteration\n",
            "150 iteration\n",
            "151 iteration\n",
            "152 iteration\n",
            "153 iteration\n",
            "154 iteration\n",
            "155 iteration\n",
            "156 iteration\n",
            "157 iteration\n",
            "158 iteration\n",
            "159 iteration\n",
            "160 iteration\n",
            "161 iteration\n",
            "162 iteration\n",
            "163 iteration\n",
            "164 iteration\n",
            "165 iteration\n",
            "166 iteration\n",
            "167 iteration\n",
            "168 iteration\n",
            "169 iteration\n",
            "170 iteration\n",
            "171 iteration\n",
            "172 iteration\n",
            "173 iteration\n",
            "174 iteration\n",
            "175 iteration\n",
            "176 iteration\n",
            "177 iteration\n",
            "178 iteration\n",
            "179 iteration\n",
            "180 iteration\n",
            "181 iteration\n",
            "182 iteration\n",
            "183 iteration\n",
            "184 iteration\n",
            "185 iteration\n",
            "186 iteration\n",
            "187 iteration\n",
            "188 iteration\n",
            "189 iteration\n",
            "190 iteration\n",
            "191 iteration\n",
            "192 iteration\n",
            "193 iteration\n",
            "194 iteration\n",
            "195 iteration\n",
            "196 iteration\n",
            "197 iteration\n",
            "198 iteration\n",
            "199 iteration\n",
            "200 iteration\n",
            "201 iteration\n",
            "done\n"
          ]
        }
      ]
    }
  ]
}